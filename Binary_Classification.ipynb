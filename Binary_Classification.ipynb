{
  "nbformat": 4,
  "nbformat_minor": 0,
  "metadata": {
    "colab": {
      "provenance": []
    },
    "kernelspec": {
      "name": "python3",
      "display_name": "Python 3"
    },
    "language_info": {
      "name": "python"
    }
  },
  "cells": [
    {
      "cell_type": "markdown",
      "source": [
        "# 0 Installing required packages"
      ],
      "metadata": {
        "id": "OdAykFILFpFY"
      }
    },
    {
      "cell_type": "code",
      "source": [
        "# %pip install pandas\n",
        "# %pip install pyarrow\n",
        "# %pip install numpy\n",
        "# %pip install scikit-learn\n",
        "# %pip install imbalanced-learn\n",
        "# %pip install matplotlib"
      ],
      "metadata": {
        "id": "ckiwv4sHFc5y"
      },
      "execution_count": null,
      "outputs": []
    },
    {
      "cell_type": "markdown",
      "source": [
        "#  1 Preparing data\n",
        "\n",
        "Before a model can even be trained; it requires data. But there are steps needed to ensure that the data is cleaned and ready for a model - if the data is wrongly formatted or missing; the model training process will not work. Thus, the following steps are advised."
      ],
      "metadata": {
        "id": "--6K014ymIrA"
      }
    },
    {
      "cell_type": "markdown",
      "source": [
        "## 1.1 Reading Data"
      ],
      "metadata": {
        "id": "qlx0YVSsT2sM"
      }
    },
    {
      "cell_type": "code",
      "source": [
        "import pandas as pd\n",
        "import numpy as np\n",
        "\n",
        "df = pd.read_parquet('catB_train.parquet')"
      ],
      "metadata": {
        "id": "hGTc0RawVRat"
      },
      "execution_count": null,
      "outputs": []
    },
    {
      "cell_type": "markdown",
      "source": [
        "## 1.2 Processing Data"
      ],
      "metadata": {
        "id": "xkZj0CVUT46j"
      }
    },
    {
      "cell_type": "code",
      "source": [
        "# Convert target col to 0 or 1\n",
        "df[\"f_purchase_lh\"] = df[\"f_purchase_lh\"].fillna(0)\n",
        "\n",
        "# Identifiy numeric columns and fill null values with the median value\n",
        "numeric_cols = df.select_dtypes(include=[\"int64\", \"float64\"]).columns\n",
        "df[numeric_cols] = df[numeric_cols].apply(lambda x: x.fillna(x.median()))\n",
        "\n",
        "# Drop non-numeric cols\n",
        "non_numeric_cols = df.select_dtypes(include=[\"string\", \"object\"]).columns\n",
        "df = df.drop(columns=non_numeric_cols)\n",
        "\n",
        "y = df[\"f_purchase_lh\"]\n",
        "X = df.drop(columns=['f_purchase_lh'])"
      ],
      "metadata": {
        "id": "vVwXZj_jTw40"
      },
      "execution_count": null,
      "outputs": []
    },
    {
      "cell_type": "markdown",
      "source": [
        "## 1.3 Applying SMOTE (Synthetic Minority Oversampling Technique)\n",
        "\n",
        "When dealing with a dataset with unbalanced target variable (for example, many normal emails and few spam emails), we may apply SMOTE to generate more of the minority class, so we can train models to catch positive cases more effectively.\n",
        "\n",
        "Besides SMOTE, there are many more algorithms and methods one can use to solve the problem. Dive deeper with these articles:\n",
        "1. https://www.analyticsvidhya.com/blog/2020/10/overcoming-class-imbalance-using-smote-techniques/\n",
        "2. https://imbalanced-learn.org/stable/over_sampling.html"
      ],
      "metadata": {
        "id": "pZ7Q5kEhcBO1"
      }
    },
    {
      "cell_type": "code",
      "source": [
        "from collections import Counter\n",
        "from imblearn.over_sampling import SMOTE\n",
        "from sklearn.model_selection import train_test_split\n",
        "\n",
        "X_train, X_val, y_train, y_val = train_test_split(X, y, test_size=0.2, random_state=0)\n",
        "\n",
        "print('Before:', Counter(y_train))\n",
        "X_train, y_train = SMOTE().fit_resample(X_train, y_train)\n",
        "print('After:', Counter(y_train))"
      ],
      "metadata": {
        "id": "E2SuJgLbm7p6"
      },
      "execution_count": null,
      "outputs": []
    },
    {
      "cell_type": "markdown",
      "source": [
        "# 2. Modelling and Evaluation\n",
        "\n",
        "After completing the previous stages of the workflow discussed, we are finally ready totrain models and evaluate their performance. In this section, we explore some metrics to evaluate performance, to help us decide if we have a satisfactory model or not. This is usually evaluated against a hold-out set of data."
      ],
      "metadata": {
        "id": "RKioviEiUjCv"
      }
    },
    {
      "cell_type": "markdown",
      "source": [
        "## 2.1 Metrics\n",
        "\n",
        "In machine learning, there are many metrics we can use to evaluate model performance. We decide the metric to use depending on the nature of the problem (classification vs regression).\n",
        "\n",
        "For classification context, here are some metrics we can use:\n",
        "1. Accuracy\n",
        "2. Precision\n",
        "3. Recall\n",
        "4. F-score, or F1-score (Calculated from Precision and Recall)\n",
        "\n",
        "Dive deeper:\n",
        "1. https://towardsdatascience.com/understanding-confusion-matrix-a9ad42dcfd62\n",
        "2. https://www.statology.org/sklearn-classification-report/"
      ],
      "metadata": {
        "id": "vxDyhMMQUaSm"
      }
    },
    {
      "cell_type": "markdown",
      "source": [
        "## 2.2 Cross-validation (the 80-20 train-test split)\n",
        "\n",
        "Cross validation is used to evaluate your model's performance, giving insight on the cases where your model performs well and where it falls short."
      ],
      "metadata": {
        "id": "Iq1wI7rUUWSP"
      }
    },
    {
      "cell_type": "code",
      "source": [
        "from sklearn.model_selection import train_test_split\n",
        "\n",
        "X_train, X_val, y_train, y_val = train_test_split(X, y, test_size=0.2, random_state=0)"
      ],
      "metadata": {
        "id": "Gdbkf-NFVCFs"
      },
      "execution_count": null,
      "outputs": []
    },
    {
      "cell_type": "code",
      "source": [
        "# Decision Tree model (more explanation for this in Modelling Section)\n",
        "from sklearn.tree import DecisionTreeClassifier\n",
        "\n",
        "dt_clf = DecisionTreeClassifier()\n",
        "dt_clf.fit(X_train, y_train)\n",
        "\n",
        "from sklearn.metrics import confusion_matrix, classification_report, ConfusionMatrixDisplay\n",
        "\n",
        "# Evaluate on validation set\n",
        "y_val_pred = dt_clf.predict(X_val)\n",
        "print(classification_report(y_val, y_val_pred))\n",
        "\n",
        "# Code to generate visualisation of matrix\n",
        "cm = confusion_matrix(y_val, y_val_pred)\n",
        "disp = ConfusionMatrixDisplay(confusion_matrix=cm,) # set display_label according to dataset\n",
        "disp.plot()"
      ],
      "metadata": {
        "id": "ikj7CPu0UVWV"
      },
      "execution_count": null,
      "outputs": []
    },
    {
      "cell_type": "markdown",
      "source": [
        "## 2.3 K-fold Cross-validation (80-20 split 'cycling through entire dataset')\n",
        "\n",
        "In practice, we use K-fold cross-validation for hyperparameter tuning. Hyperparameter tuning is the act of finding the best model parameters (what parameters can be varied depends on the type of model you are using).\n",
        "\n",
        "We will not go into further detail in this workshop, to read more about this process and other possible variantions you may refer to the reference document:\n",
        "https://scikit-learn.org/stable/modules/cross_validation.html"
      ],
      "metadata": {
        "id": "XWjiYwm-TJbM"
      }
    },
    {
      "cell_type": "markdown",
      "source": [
        "![image.png](data:image/png;base64,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)"
      ],
      "metadata": {
        "id": "Ub3rBi5SSWo3"
      }
    },
    {
      "cell_type": "markdown",
      "source": [
        "Sample Code:"
      ],
      "metadata": {
        "id": "aFMbZwL6YSxB"
      }
    },
    {
      "cell_type": "code",
      "source": [
        "from sklearn.model_selection import cross_val_score\n",
        "\n",
        "model = dt_clf\n",
        "scores = cross_val_score(model, X, y, cv=5)\n",
        "\n",
        "# By default, cross_val_score returns a numpy array of accurcacies for each train-test split\n",
        "#>>> scores\n",
        "#array([0.96..., 1. , 0.96..., 0.96..., 1. ])\n",
        "\n",
        "# To use other metrics for example, f1-macro score:\n",
        "from sklearn import metrics\n",
        "\n",
        "scores = cross_val_score(model, X, y, cv=5, scoring='f1_macro')\n",
        "scores"
      ],
      "metadata": {
        "id": "JLcgTLWiYRhY"
      },
      "execution_count": null,
      "outputs": []
    },
    {
      "cell_type": "markdown",
      "source": [
        "**Futher considerations for cross-validation:**\n",
        "\n",
        "Imbalanced dataset? Stratification of each split (to ensure each split is balanced to reduce overfitting, by reducing data imbalance in each split)\n",
        "\n",
        "\n",
        "For a deeper dive, refer to these articles:\n",
        "1. https://machinelearningmastery.com/cross-validation-for-imbalanced-classification/\n",
        "2. https://neptune.ai/blog/cross-validation-mistakes"
      ],
      "metadata": {
        "id": "W-QeHZCnOC-P"
      }
    },
    {
      "cell_type": "markdown",
      "source": [
        "# 3. Introduction to Machine Learning models\n"
      ],
      "metadata": {
        "id": "iywwaa9M89C0"
      }
    },
    {
      "cell_type": "markdown",
      "source": [
        "## 3.1 No Free Lunch Theorem\n",
        "In this section, we will explore several classic and important models in the field of machine learning. The first question that comes to mind would be: what is the best machine learning model? Is there a model that can accurately solve all problems? As it turns out, in  the late 20th century, mathematicians proved that such a model does not exist. If you're interested to learn more about this theorem, check out https://machinelearningmastery.com/no-free-lunch-theorem-for-machine-learning/.\n",
        "\n",
        "TLDR: The moral of the story is that different machine learning models are required in different situations. Some models may outperform others for a specific problem, but perform worse in another problem."
      ],
      "metadata": {
        "id": "E6BbNRt1soof"
      }
    },
    {
      "cell_type": "markdown",
      "source": [
        "## 3.2 K-Nearest Neighbours\n",
        "\n",
        "One of the most natural (and naive) way to model a classification problem is to leverage the idea of a majority vote. For instance, suppose we have a set of 5 training examples with their corresponding labels, say $\\{(X_1, 0), (X_2, 0), (X_3, 1), (X_4, 1), (X_5, 0)\\}$. Now, if we have a new example, say $X$, that we wish to classify, we can first find the 3 examples that are closest to $X$. Let's say those examples turn out to be $\\{X_1, X_3, X_5\\}$. Then, from our given information, we know that $X_1$ and $X_5$ are from class 0 and $X_3$ is from class 1. That means, by a majority vote, our new example $X$ should be classified as class 0.\n",
        "\n",
        "The K-Nearest Neighbours model is built on this idea. In fact, the idea is so simple that you could build this model from scratch on your own. The tricky bits lie in the computation of all these distances when you have a large number of training examples or a large number of rows in each example. There are various algorithms that have been designed to optimise this process while maintaining a good performance. Feel free to read more about it at: https://scikit-learn.org/stable/modules/generated/sklearn.neighbors.KNeighborsClassifier.html\n",
        "\n"
      ],
      "metadata": {
        "id": "5E4JbtFN9KeZ"
      }
    },
    {
      "cell_type": "code",
      "source": [
        "# import the necessary class from the scikit-learn library\n",
        "from sklearn.neighbors import KNeighborsClassifier"
      ],
      "metadata": {
        "id": "BvMqVhKyq7iO"
      },
      "execution_count": null,
      "outputs": []
    },
    {
      "cell_type": "code",
      "source": [
        "# assume X_train, y_train are df/numpy objects\n",
        "knn_clf = KNeighborsClassifier(n_neighbors=2)\n",
        "knn_clf.fit(X_train, y_train)\n",
        "print(\"train accuracy: \", knn_clf.score(X_train, y_train))\n",
        "print(\"val accuracy: \", knn_clf.score(X_val, y_val))"
      ],
      "metadata": {
        "id": "DpY_NflRrMWy"
      },
      "execution_count": null,
      "outputs": []
    },
    {
      "cell_type": "markdown",
      "source": [
        "## 3.2 (a) Decision Tree"
      ],
      "metadata": {
        "id": "aK96_R7x9G-z"
      }
    },
    {
      "cell_type": "markdown",
      "source": [
        "Another approach to this binary classification problem is to apply the Decision Tree model. As the name suggest, the Decision Tree model is a model that is built on a series of decisions. A good way to think about these decisions is to view them as an if-else statement. Here's a simple example that motivates the idea of using a decision.\n",
        "\n",
        "Hypothetically, suppose that in our dataset, we observed that age is a factor that influences the person's decision to purchase insurance. Then, a logical approach could be to attempt to predict a person's decision based on their age. Suppose after looking through all the training data, you realise that 90% of people above the age of 50 would purchase insurance. With such a high success rate of predicting a person's decision, you decide to use `age = 50` as a threshold. However, there's no reason to stop there. You could potentially ask more questions. Perhaps a person's gender or occupation could be factors that can help you further categorise the examples, yielding even more accurate predictions.\n",
        "\n",
        "Once you recursively repeat this thresholding process for selected factors, you'll get a series of if-else statements that essentially form a tree. Some of you might notice a few caveats in this approach:\n",
        "\n",
        "\n",
        "1. How do we know which factors to pick?\n",
        "2. How can we find the optimal threshold for a given factor?\n",
        "3. In what order should I pick the factors?\n",
        "\n",
        "These are all really intresting questions that have been considered and taken into account to by the Scikit-learn package that we are using. If you're interested to learn more, feel free to check out: https://www.geeksforgeeks.org/decision-tree/\n",
        "\n"
      ],
      "metadata": {
        "id": "V4e8Igk0xu20"
      }
    },
    {
      "cell_type": "code",
      "source": [
        "from sklearn.tree import DecisionTreeClassifier"
      ],
      "metadata": {
        "id": "Q54-xP0msAO4"
      },
      "execution_count": null,
      "outputs": []
    },
    {
      "cell_type": "code",
      "source": [
        "dt_clf = DecisionTreeClassifier()\n",
        "dt_clf.fit(X_train, y_train)\n",
        "print(\"train accuracy: \", dt_clf.score(X_train, y_train))\n",
        "print(\"val accuracy: \", dt_clf.score(X_val, y_val))"
      ],
      "metadata": {
        "id": "0ULQ3EoZsC0T"
      },
      "execution_count": null,
      "outputs": []
    },
    {
      "cell_type": "markdown",
      "source": [
        "## 3.2(b) Random Forest"
      ],
      "metadata": {
        "id": "cd1_0SWq0LZM"
      }
    },
    {
      "cell_type": "markdown",
      "source": [
        "After thinking about the Decision Tree approach, some questions spring up naturally:\n",
        "\n",
        "\n",
        "1. Are there alternate ways to form the Decision Tree and yield a comparable performance?\n",
        "2. How generalisable is the Decision Tree? How can we improve the generalisability of this model?\n",
        "\n",
        "As it turns out, the answer to these questions led to the idea of a Random Forest model. The idea is simple. Take multiple random samples from the training data and train a new Decision Tree for each sample. Then, when performing the final prediction, make a prediction with each model and use the majority vote as the final prediction.\n",
        "\n",
        "There are some other nuances in the implementation to further increase the performance of the Random Forest model. If you're interested to learn more, check out: https://scikit-learn.org/stable/modules/generated/sklearn.ensemble.RandomForestClassifier.html"
      ],
      "metadata": {
        "id": "i5-a1gcx0O7V"
      }
    },
    {
      "cell_type": "code",
      "source": [
        "from sklearn.ensemble import RandomForestClassifier"
      ],
      "metadata": {
        "id": "4TyKLvyjsYDb"
      },
      "execution_count": null,
      "outputs": []
    },
    {
      "cell_type": "code",
      "source": [
        "rndforest_clf = RandomForestClassifier()\n",
        "rndforest_clf.fit(X_train, y_train)\n",
        "print(\"train accuracy: \", rndforest_clf.score(X_train, y_train))\n",
        "print(\"val accuracy: \", rndforest_clf.score(X_val, y_val))"
      ],
      "metadata": {
        "id": "vx14GIhNsY08"
      },
      "execution_count": null,
      "outputs": []
    },
    {
      "cell_type": "markdown",
      "source": [
        "## 3.2(c) Gradient Boosting\n",
        "\n",
        "Another variant of the Decision Tree model is to introduce gradient boosting. The idea behind gradient boosting is construct a large number of decision trees with depth 1 (i.e. by asking only one question) and making a prediction by taking the weighted average of each tree's prediction. This is done to reduce the problem of overfitting.\n",
        "\n",
        "To check out more about gradient boosted trees, go to: https://scikit-learn.org/stable/modules/generated/sklearn.ensemble.GradientBoostingClassifier.html#sklearn.ensemble.GradientBoostingClassifier\n",
        "\n",
        "There is also another Python package, known as XGBoost, which can create highly optimised gradient boosted decision trees. Feel free to check them out: https://xgboost.readthedocs.io/en/stable/"
      ],
      "metadata": {
        "id": "WG7uqgz3wsg_"
      }
    },
    {
      "cell_type": "code",
      "source": [
        "from sklearn.ensemble import GradientBoostingClassifier"
      ],
      "metadata": {
        "id": "PegHY2S4zns5"
      },
      "execution_count": null,
      "outputs": []
    },
    {
      "cell_type": "code",
      "source": [
        "boosted_clf = GradientBoostingClassifier()\n",
        "boosted_clf.fit(X_train, y_train)\n",
        "print(\"train accuracy: \", boosted_clf.score(X_train, y_train))\n",
        "print(\"val accuracy: \", boosted_clf.score(X_val, y_val))"
      ],
      "metadata": {
        "id": "334OEeI7zp8o"
      },
      "execution_count": null,
      "outputs": []
    },
    {
      "cell_type": "markdown",
      "source": [
        "## 3.3 Support Vector Machine"
      ],
      "metadata": {
        "id": "OLXHa2Hc9tJP"
      }
    },
    {
      "cell_type": "markdown",
      "source": [
        "A good way to motivate the idea for a Support Vector Machine model is to consider the following problem:\n",
        "\n",
        "Suppose you have a set of points in space, where each of them belongs to one of two categories. Your goal is to draw boundary such to correctly classify these points while ensuring that the boundary is as far as possible from each point. In 2D space, as seen in the figure below, that could be achived by drawing a straight line or a curve and using that as a boundary. In this case, we shall restrict ourselves to using only linear boundaries, i.e. drawing a straight line.\n",
        "\n",
        "<div>\n",
        "<img src=\"https://drive.google.com/uc?id=1ecZVxRqCpNzDVrGH5cyMFBKxkWsmLTRR\" width=\"500\"/>\n",
        "</div>\n",
        "\n",
        "\n",
        "This is one half of the idea. The other half is to address the assumption of using a linear decision boundary. As it turns out, it has been proven that for any set of points, we can find some mathematical function to project it into higher dimensional space and find a linear boundary in this space to separate the points.\n",
        "\n",
        "<div>\n",
        "<img src=\"https://drive.google.com/uc?id=18vwSD0ElQ9D8b0OiyDMbNkUMLwiXtH70\" width=\"300\"/>\n",
        "<img src=\"https://drive.google.com/uc?id=1W5OC1xDTVwvAGgRFjqlPhK553kTOabS2\" width=\"300\"/>\n",
        "<img src=\"https://drive.google.com/uc?id=1XKymTBvLQawUyU31qkiQZ5W4doH5RUWk\" width=\"300\"/>\n",
        "</div>\n",
        "Credits: <a href=https://www.youtube.com/watch?v=Q7vT0--5VII>Visually Explained </a>\n",
        "\n",
        "As such, putting these two ideas, training a SVM model is essentially the process of trying to find a decision boundary that is as far as possible from each point in a higher dimensional space.\n",
        "\n",
        "To learn more about SVMs: https://towardsdatascience.com/support-vector-machine-introduction-to-machine-learning-algorithms-934a444fca47"
      ],
      "metadata": {
        "id": "vJC__jBflToJ"
      }
    },
    {
      "cell_type": "code",
      "source": [
        "from sklearn.svm import SVC"
      ],
      "metadata": {
        "id": "stLcC8oLsOgB"
      },
      "execution_count": null,
      "outputs": []
    },
    {
      "cell_type": "code",
      "source": [
        "svm_clf = SVC(C=1)\n",
        "svm_clf.fit(X_train, y_train)\n",
        "print(\"train accuracy: \", svm_clf.score(X_train, y_train))\n",
        "print(\"val accuracy: \", svm_clf.score(X_val, y_val))"
      ],
      "metadata": {
        "id": "rZiv4lm8sRjm"
      },
      "execution_count": null,
      "outputs": []
    },
    {
      "cell_type": "markdown",
      "source": [
        "## 3.4 Logistic Regression"
      ],
      "metadata": {
        "id": "NZdpevid9RrO"
      }
    },
    {
      "cell_type": "markdown",
      "source": [
        "A logistic model is based on a mathematical function that restricts all values to a range that is between 0 and 1. More specifically, a logistic model typically uses a sigmoid function, given by\n",
        "$$ f(x) = \\frac{1}{1 + e^{-x}}. $$\n",
        "You can plot out this function on your own to see how it looks like.\n",
        "\n",
        "Intuitively, it makes sense to apply a mathematical function like this to a binary classification problem. To make a prediction in our context, suppose we have an example given by the vector $X$ and another vector called $W$. Then, we would compute $X \\cdot W$ (dot product) to get a single scalar value. We can then use that value to make a prediction with the sigmoid function, where the prediction is given as\n",
        "$$ \\frac{1}{1 + e^{-X \\cdot W}}. $$\n",
        "\n",
        "As such, when training the model, we are essentially trying to optimise $W$ to our training data, such that the prediction made using $W$ is as close to our training labels as possible. This training process is taken care of by built-in libraries like Scikit-Learn.\n",
        "\n",
        "To learn more about logistic regression models, check out: https://scikit-learn.org/stable/modules/generated/sklearn.linear_model.LogisticRegression.html"
      ],
      "metadata": {
        "id": "YdE9phj4lmdL"
      }
    },
    {
      "cell_type": "code",
      "source": [
        "from sklearn.linear_model import LogisticRegression"
      ],
      "metadata": {
        "id": "OWUKIyO7sJVQ"
      },
      "execution_count": null,
      "outputs": []
    },
    {
      "cell_type": "code",
      "source": [
        "log_clf = LogisticRegression()\n",
        "log_clf.fit(X_train, y_train)\n",
        "print(\"train accuracy: \", log_clf.score(X_train, y_train))\n",
        "print(\"val accuracy: \", log_clf.score(X_val, y_val))"
      ],
      "metadata": {
        "id": "-cke8lUWsLdF"
      },
      "execution_count": null,
      "outputs": []
    },
    {
      "cell_type": "markdown",
      "source": [
        "# 3.5 Neural Networks"
      ],
      "metadata": {
        "id": "yXAyLmJB99F3"
      }
    },
    {
      "cell_type": "markdown",
      "source": [
        "From a certain point of view, a neural network can be thought of as a generalisation of a logistic regression model. Recall that in a logistic regression model, if you have a vector $X = (x_1, x_2, \\dots, x_n)$ and a weight vector $W = (w_1, w_2, \\dots, w_n)$, the model prediction is then given by $f(X \\cdot W)$, where\n",
        "$$ f(x) = \\frac{1}{1 + e^{-x}}. $$\n",
        "One observation made from the logistic regression model is that its modelling ability my be restricted by the fact that $X \\cdot W = x_1w_1 + x_2w_2 + \\cdots + x_nw_n$ is a linear function. As it turns out, neural networks can be used to overcome this limitation by allowing the model to learn much more complicated patterns before passing the final scalar value into the sigmoid function, $f(x)$.\n",
        "\n",
        "To learn more about neural networks, 3Blue1Brown has amazing videos that explains and visualise neural networks: https://youtube.com/playlist?list=PLZHQObOWTQDNU6R1_67000Dx_ZCJB-3pi&si=kgjauvGPmEtbT_F7"
      ],
      "metadata": {
        "id": "qqL6hgSfrePa"
      }
    },
    {
      "cell_type": "code",
      "source": [
        "from sklearn.neural_network import MLPClassifier"
      ],
      "metadata": {
        "id": "j_9WqkwdsUye"
      },
      "execution_count": null,
      "outputs": []
    },
    {
      "cell_type": "code",
      "source": [
        "nn_clf = MLPClassifier()\n",
        "nn_clf.fit(X_train, y_train)\n",
        "print(\"train accuracy: \", nn_clf.score(X_train, y_train))\n",
        "print(\"val accuracy: \", nn_clf.score(X_val, y_val))"
      ],
      "metadata": {
        "id": "S1ZfViyjsV8s"
      },
      "execution_count": null,
      "outputs": []
    },
    {
      "cell_type": "markdown",
      "source": [
        "Scikit-learn provides a neural network model which has the same interface as all the previous models that we have encountered. The benefits of using the Scikit-learn implementation is the simplicity that the library provides. However, in general, to create more powerful neural network models, libraries like TensorFlow and PyTorch are used.\n",
        "\n",
        "TensorFlow: https://www.tensorflow.org/tutorials/quickstart/beginner\n",
        "\n",
        "PyTorch: https://pytorch.org/tutorials/beginner/basics/quickstart_tutorial.html"
      ],
      "metadata": {
        "id": "BiVsK2sBLgx0"
      }
    }
  ]
}