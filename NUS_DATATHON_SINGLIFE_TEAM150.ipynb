{
 "cells": [
  {
   "cell_type": "markdown",
   "metadata": {},
   "source": [
    "##### The cell below is for you to keep track of the libraries used and install those libraries quickly\n",
    "##### Ensure that the proper library names are used and the syntax of `%pip install PACKAGE_NAME` is followed"
   ]
  },
  {
   "cell_type": "code",
   "execution_count": 1,
   "metadata": {},
   "outputs": [
    {
     "name": "stdout",
     "output_type": "stream",
     "text": [
      "Requirement already satisfied: pandas in c:\\users\\hanrui\\anaconda3\\lib\\site-packages (2.0.3)\n",
      "Requirement already satisfied: python-dateutil>=2.8.2 in c:\\users\\hanrui\\anaconda3\\lib\\site-packages (from pandas) (2.8.2)\n",
      "Requirement already satisfied: pytz>=2020.1 in c:\\users\\hanrui\\anaconda3\\lib\\site-packages (from pandas) (2023.3.post1)\n",
      "Requirement already satisfied: tzdata>=2022.1 in c:\\users\\hanrui\\anaconda3\\lib\\site-packages (from pandas) (2023.3)\n",
      "Requirement already satisfied: numpy>=1.21.0 in c:\\users\\hanrui\\anaconda3\\lib\\site-packages (from pandas) (1.24.3)\n",
      "Requirement already satisfied: six>=1.5 in c:\\users\\hanrui\\anaconda3\\lib\\site-packages (from python-dateutil>=2.8.2->pandas) (1.16.0)\n",
      "Note: you may need to restart the kernel to use updated packages.\n",
      "Requirement already satisfied: pyarrow in c:\\users\\hanrui\\anaconda3\\lib\\site-packages (11.0.0)\n",
      "Requirement already satisfied: numpy>=1.16.6 in c:\\users\\hanrui\\anaconda3\\lib\\site-packages (from pyarrow) (1.24.3)\n",
      "Note: you may need to restart the kernel to use updated packages.\n",
      "Requirement already satisfied: numpy in c:\\users\\hanrui\\anaconda3\\lib\\site-packages (1.24.3)\n",
      "Note: you may need to restart the kernel to use updated packages.\n",
      "Requirement already satisfied: scikit-learn in c:\\users\\hanrui\\anaconda3\\lib\\site-packages (1.3.0)\n",
      "Requirement already satisfied: numpy>=1.17.3 in c:\\users\\hanrui\\anaconda3\\lib\\site-packages (from scikit-learn) (1.24.3)\n",
      "Requirement already satisfied: scipy>=1.5.0 in c:\\users\\hanrui\\anaconda3\\lib\\site-packages (from scikit-learn) (1.11.1)\n",
      "Requirement already satisfied: joblib>=1.1.1 in c:\\users\\hanrui\\anaconda3\\lib\\site-packages (from scikit-learn) (1.2.0)\n",
      "Requirement already satisfied: threadpoolctl>=2.0.0 in c:\\users\\hanrui\\anaconda3\\lib\\site-packages (from scikit-learn) (2.2.0)\n",
      "Note: you may need to restart the kernel to use updated packages.\n",
      "Requirement already satisfied: imbalanced-learn in c:\\users\\hanrui\\anaconda3\\lib\\site-packages (0.10.1)Note: you may need to restart the kernel to use updated packages.\n",
      "\n",
      "Requirement already satisfied: numpy>=1.17.3 in c:\\users\\hanrui\\anaconda3\\lib\\site-packages (from imbalanced-learn) (1.24.3)\n",
      "Requirement already satisfied: scipy>=1.3.2 in c:\\users\\hanrui\\anaconda3\\lib\\site-packages (from imbalanced-learn) (1.11.1)\n",
      "Requirement already satisfied: scikit-learn>=1.0.2 in c:\\users\\hanrui\\anaconda3\\lib\\site-packages (from imbalanced-learn) (1.3.0)\n",
      "Requirement already satisfied: joblib>=1.1.1 in c:\\users\\hanrui\\anaconda3\\lib\\site-packages (from imbalanced-learn) (1.2.0)\n",
      "Requirement already satisfied: threadpoolctl>=2.0.0 in c:\\users\\hanrui\\anaconda3\\lib\\site-packages (from imbalanced-learn) (2.2.0)\n",
      "Requirement already satisfied: matplotlib in c:\\users\\hanrui\\anaconda3\\lib\\site-packages (3.7.2)\n",
      "Requirement already satisfied: contourpy>=1.0.1 in c:\\users\\hanrui\\anaconda3\\lib\\site-packages (from matplotlib) (1.0.5)\n",
      "Requirement already satisfied: cycler>=0.10 in c:\\users\\hanrui\\anaconda3\\lib\\site-packages (from matplotlib) (0.11.0)\n",
      "Requirement already satisfied: fonttools>=4.22.0 in c:\\users\\hanrui\\anaconda3\\lib\\site-packages (from matplotlib) (4.25.0)\n",
      "Requirement already satisfied: kiwisolver>=1.0.1 in c:\\users\\hanrui\\anaconda3\\lib\\site-packages (from matplotlib) (1.4.4)\n",
      "Requirement already satisfied: numpy>=1.20 in c:\\users\\hanrui\\anaconda3\\lib\\site-packages (from matplotlib) (1.24.3)\n",
      "Requirement already satisfied: packaging>=20.0 in c:\\users\\hanrui\\anaconda3\\lib\\site-packages (from matplotlib) (23.1)\n",
      "Requirement already satisfied: pillow>=6.2.0 in c:\\users\\hanrui\\anaconda3\\lib\\site-packages (from matplotlib) (9.4.0)\n",
      "Requirement already satisfied: pyparsing<3.1,>=2.3.1 in c:\\users\\hanrui\\anaconda3\\lib\\site-packages (from matplotlib) (3.0.9)\n",
      "Requirement already satisfied: python-dateutil>=2.7 in c:\\users\\hanrui\\anaconda3\\lib\\site-packages (from matplotlib) (2.8.2)\n",
      "Requirement already satisfied: six>=1.5 in c:\\users\\hanrui\\anaconda3\\lib\\site-packages (from python-dateutil>=2.7->matplotlib) (1.16.0)\n",
      "Note: you may need to restart the kernel to use updated packages.\n"
     ]
    }
   ],
   "source": [
    "%pip install pandas\n",
    "%pip install pyarrow\n",
    "%pip install numpy\n",
    "%pip install scikit-learn\n",
    "%pip install imbalanced-learn\n",
    "%pip install matplotlib\n",
    "# add commented pip installation lines for packages used as shown above for ease of testing\n",
    "# the line should be of the format %pip install PACKAGE_NAME "
   ]
  },
  {
   "cell_type": "markdown",
   "metadata": {},
   "source": [
    "## **DO NOT CHANGE** the filepath variable\n",
    "##### Instead, create a folder named 'data' in your current working directory and \n",
    "##### have the .parquet file inside that. A relative path *must* be used when loading data into pandas"
   ]
  },
  {
   "cell_type": "code",
   "execution_count": 4,
   "metadata": {},
   "outputs": [],
   "source": [
    "# Can have as many cells as you want for code\n",
    "import pandas as pd\n",
    "import matplotlib.pyplot as plt \n",
    "import seaborn as sns\n",
    "import plotly.express as px\n",
    "import plotly.graph_objs as go\n",
    "from plotly.subplots import make_subplots\n",
    "filepath = \"./data/catB_train.parquet\" \n",
    "# the initialised filepath MUST be a relative path to a folder named data that contains the parquet file"
   ]
  },
  {
   "cell_type": "markdown",
   "metadata": {},
   "source": [
    "### **ALL** Code for machine learning and dataset analysis should be entered below. \n",
    "##### Ensure that your code is clear and readable.\n",
    "##### Comments and Markdown notes are advised to direct attention to pieces of code you deem useful."
   ]
  },
  {
   "cell_type": "markdown",
   "metadata": {},
   "source": [
    "## Data Processing and KNN Imputation"
   ]
  },
  {
   "cell_type": "code",
   "execution_count": 5,
   "metadata": {},
   "outputs": [],
   "source": [
    "from sklearn.impute import KNNImputer\n",
    "from sklearn.preprocessing import StandardScaler"
   ]
  },
  {
   "cell_type": "code",
   "execution_count": 6,
   "metadata": {},
   "outputs": [],
   "source": [
    "#importing data into dataframe\n",
    "df = pd.read_parquet(\"./data/catB_train.parquet\")\n",
    "\n",
    "# Convert target col to 0 or 1\n",
    "df[\"f_purchase_lh\"] = df[\"f_purchase_lh\"].fillna(0)\n",
    "\n",
    "# Identify numeric columns\n",
    "numeric_cols = df.select_dtypes(include=[\"int64\", \"float64\"])\n",
    "\n",
    "# Create a mask of non-NA values\n",
    "non_na_mask = numeric_cols.notna()\n",
    "\n",
    "# Initialize KNNImputer\n",
    "imputer = KNNImputer(n_neighbors=3)\n",
    "\n",
    "#KNN imputation on non-NA values\n",
    "imputed_non_na = imputer.fit_transform(numeric_cols[non_na_mask])\n",
    "imputed_df = pd.DataFrame(imputed_non_na, columns=numeric_cols.columns, index=numeric_cols.index)\n",
    "\n",
    "# Replace NA values with imputed values from nearest non-NA neighbors\n",
    "for col in numeric_cols.columns:\n",
    "    df[col].fillna(imputed_df[col], inplace=True)\n",
    "\n",
    "\n",
    "# Display DataFrame after imputation\n",
    "#print(df)\n",
    "\n",
    "# Drop non-numeric cols\n",
    "non_numeric_cols = df.select_dtypes(include=[\"string\", \"object\"]).columns\n",
    "df = df.drop(columns=non_numeric_cols)\n",
    "\n",
    "y = df[\"f_purchase_lh\"]\n",
    "X = df.drop(columns=['f_purchase_lh'])"
   ]
  },
  {
   "cell_type": "code",
   "execution_count": 7,
   "metadata": {},
   "outputs": [
    {
     "data": {
      "text/html": [
       "<div>\n",
       "<style scoped>\n",
       "    .dataframe tbody tr th:only-of-type {\n",
       "        vertical-align: middle;\n",
       "    }\n",
       "\n",
       "    .dataframe tbody tr th {\n",
       "        vertical-align: top;\n",
       "    }\n",
       "\n",
       "    .dataframe thead th {\n",
       "        text-align: right;\n",
       "    }\n",
       "</style>\n",
       "<table border=\"1\" class=\"dataframe\">\n",
       "  <thead>\n",
       "    <tr style=\"text-align: right;\">\n",
       "      <th></th>\n",
       "      <th>flg_substandard</th>\n",
       "      <th>flg_is_borderline_standard</th>\n",
       "      <th>flg_is_revised_term</th>\n",
       "      <th>flg_is_rental_flat</th>\n",
       "      <th>flg_has_health_claim</th>\n",
       "      <th>flg_has_life_claim</th>\n",
       "      <th>flg_gi_claim</th>\n",
       "      <th>flg_is_proposal</th>\n",
       "      <th>flg_with_preauthorisation</th>\n",
       "      <th>flg_is_returned_mail</th>\n",
       "      <th>...</th>\n",
       "      <th>hlthclaim_cnt_success</th>\n",
       "      <th>recency_hlthclaim_success</th>\n",
       "      <th>hlthclaim_cnt_unsuccess</th>\n",
       "      <th>recency_hlthclaim_unsuccess</th>\n",
       "      <th>flg_hlthclaim_839f8a_ever</th>\n",
       "      <th>recency_hlthclaim_839f8a</th>\n",
       "      <th>flg_hlthclaim_14cb37_ever</th>\n",
       "      <th>recency_hlthclaim_14cb37</th>\n",
       "      <th>recency_giclaim</th>\n",
       "      <th>f_purchase_lh</th>\n",
       "    </tr>\n",
       "  </thead>\n",
       "  <tbody>\n",
       "    <tr>\n",
       "      <th>19550</th>\n",
       "      <td>0.0</td>\n",
       "      <td>0.0</td>\n",
       "      <td>0.0</td>\n",
       "      <td>0.0</td>\n",
       "      <td>0.0</td>\n",
       "      <td>0.0</td>\n",
       "      <td>0.0</td>\n",
       "      <td>0.0</td>\n",
       "      <td>0.0</td>\n",
       "      <td>0.0</td>\n",
       "      <td>...</td>\n",
       "      <td>3.0</td>\n",
       "      <td>29.666667</td>\n",
       "      <td>2.000000</td>\n",
       "      <td>29.333333</td>\n",
       "      <td>1.0</td>\n",
       "      <td>19.666667</td>\n",
       "      <td>1.0</td>\n",
       "      <td>29.333333</td>\n",
       "      <td>67.333333</td>\n",
       "      <td>0.0</td>\n",
       "    </tr>\n",
       "    <tr>\n",
       "      <th>4600</th>\n",
       "      <td>0.0</td>\n",
       "      <td>0.0</td>\n",
       "      <td>0.0</td>\n",
       "      <td>0.0</td>\n",
       "      <td>0.0</td>\n",
       "      <td>0.0</td>\n",
       "      <td>0.0</td>\n",
       "      <td>0.0</td>\n",
       "      <td>0.0</td>\n",
       "      <td>0.0</td>\n",
       "      <td>...</td>\n",
       "      <td>4.0</td>\n",
       "      <td>45.000000</td>\n",
       "      <td>1.666667</td>\n",
       "      <td>49.333333</td>\n",
       "      <td>1.0</td>\n",
       "      <td>59.666667</td>\n",
       "      <td>1.0</td>\n",
       "      <td>49.333333</td>\n",
       "      <td>50.333333</td>\n",
       "      <td>0.0</td>\n",
       "    </tr>\n",
       "    <tr>\n",
       "      <th>13337</th>\n",
       "      <td>0.0</td>\n",
       "      <td>0.0</td>\n",
       "      <td>0.0</td>\n",
       "      <td>0.0</td>\n",
       "      <td>0.0</td>\n",
       "      <td>0.0</td>\n",
       "      <td>0.0</td>\n",
       "      <td>0.0</td>\n",
       "      <td>0.0</td>\n",
       "      <td>0.0</td>\n",
       "      <td>...</td>\n",
       "      <td>2.0</td>\n",
       "      <td>58.000000</td>\n",
       "      <td>2.333333</td>\n",
       "      <td>47.666667</td>\n",
       "      <td>1.0</td>\n",
       "      <td>59.666667</td>\n",
       "      <td>1.0</td>\n",
       "      <td>47.666667</td>\n",
       "      <td>56.000000</td>\n",
       "      <td>0.0</td>\n",
       "    </tr>\n",
       "    <tr>\n",
       "      <th>15074</th>\n",
       "      <td>0.0</td>\n",
       "      <td>0.0</td>\n",
       "      <td>0.0</td>\n",
       "      <td>0.0</td>\n",
       "      <td>0.0</td>\n",
       "      <td>0.0</td>\n",
       "      <td>0.0</td>\n",
       "      <td>0.0</td>\n",
       "      <td>0.0</td>\n",
       "      <td>0.0</td>\n",
       "      <td>...</td>\n",
       "      <td>6.0</td>\n",
       "      <td>59.000000</td>\n",
       "      <td>1.000000</td>\n",
       "      <td>36.000000</td>\n",
       "      <td>1.0</td>\n",
       "      <td>17.000000</td>\n",
       "      <td>1.0</td>\n",
       "      <td>50.333333</td>\n",
       "      <td>14.666667</td>\n",
       "      <td>0.0</td>\n",
       "    </tr>\n",
       "    <tr>\n",
       "      <th>19724</th>\n",
       "      <td>0.0</td>\n",
       "      <td>0.0</td>\n",
       "      <td>0.0</td>\n",
       "      <td>0.0</td>\n",
       "      <td>0.0</td>\n",
       "      <td>0.0</td>\n",
       "      <td>0.0</td>\n",
       "      <td>0.0</td>\n",
       "      <td>0.0</td>\n",
       "      <td>0.0</td>\n",
       "      <td>...</td>\n",
       "      <td>5.0</td>\n",
       "      <td>64.333333</td>\n",
       "      <td>1.333333</td>\n",
       "      <td>74.666667</td>\n",
       "      <td>1.0</td>\n",
       "      <td>49.666667</td>\n",
       "      <td>1.0</td>\n",
       "      <td>64.333333</td>\n",
       "      <td>30.333333</td>\n",
       "      <td>0.0</td>\n",
       "    </tr>\n",
       "  </tbody>\n",
       "</table>\n",
       "<p>5 rows × 90 columns</p>\n",
       "</div>"
      ],
      "text/plain": [
       "       flg_substandard  flg_is_borderline_standard  flg_is_revised_term  \\\n",
       "19550              0.0                         0.0                  0.0   \n",
       "4600               0.0                         0.0                  0.0   \n",
       "13337              0.0                         0.0                  0.0   \n",
       "15074              0.0                         0.0                  0.0   \n",
       "19724              0.0                         0.0                  0.0   \n",
       "\n",
       "       flg_is_rental_flat  flg_has_health_claim  flg_has_life_claim  \\\n",
       "19550                 0.0                   0.0                 0.0   \n",
       "4600                  0.0                   0.0                 0.0   \n",
       "13337                 0.0                   0.0                 0.0   \n",
       "15074                 0.0                   0.0                 0.0   \n",
       "19724                 0.0                   0.0                 0.0   \n",
       "\n",
       "       flg_gi_claim  flg_is_proposal  flg_with_preauthorisation  \\\n",
       "19550           0.0              0.0                        0.0   \n",
       "4600            0.0              0.0                        0.0   \n",
       "13337           0.0              0.0                        0.0   \n",
       "15074           0.0              0.0                        0.0   \n",
       "19724           0.0              0.0                        0.0   \n",
       "\n",
       "       flg_is_returned_mail  ...  hlthclaim_cnt_success  \\\n",
       "19550                   0.0  ...                    3.0   \n",
       "4600                    0.0  ...                    4.0   \n",
       "13337                   0.0  ...                    2.0   \n",
       "15074                   0.0  ...                    6.0   \n",
       "19724                   0.0  ...                    5.0   \n",
       "\n",
       "       recency_hlthclaim_success  hlthclaim_cnt_unsuccess  \\\n",
       "19550                  29.666667                 2.000000   \n",
       "4600                   45.000000                 1.666667   \n",
       "13337                  58.000000                 2.333333   \n",
       "15074                  59.000000                 1.000000   \n",
       "19724                  64.333333                 1.333333   \n",
       "\n",
       "       recency_hlthclaim_unsuccess  flg_hlthclaim_839f8a_ever  \\\n",
       "19550                    29.333333                        1.0   \n",
       "4600                     49.333333                        1.0   \n",
       "13337                    47.666667                        1.0   \n",
       "15074                    36.000000                        1.0   \n",
       "19724                    74.666667                        1.0   \n",
       "\n",
       "       recency_hlthclaim_839f8a  flg_hlthclaim_14cb37_ever  \\\n",
       "19550                 19.666667                        1.0   \n",
       "4600                  59.666667                        1.0   \n",
       "13337                 59.666667                        1.0   \n",
       "15074                 17.000000                        1.0   \n",
       "19724                 49.666667                        1.0   \n",
       "\n",
       "       recency_hlthclaim_14cb37  recency_giclaim  f_purchase_lh  \n",
       "19550                 29.333333        67.333333            0.0  \n",
       "4600                  49.333333        50.333333            0.0  \n",
       "13337                 47.666667        56.000000            0.0  \n",
       "15074                 50.333333        14.666667            0.0  \n",
       "19724                 64.333333        30.333333            0.0  \n",
       "\n",
       "[5 rows x 90 columns]"
      ]
     },
     "execution_count": 7,
     "metadata": {},
     "output_type": "execute_result"
    }
   ],
   "source": [
    "df.head()"
   ]
  },
  {
   "cell_type": "code",
   "execution_count": 8,
   "metadata": {},
   "outputs": [
    {
     "data": {
      "text/plain": [
       "(17992, 90)"
      ]
     },
     "execution_count": 8,
     "metadata": {},
     "output_type": "execute_result"
    }
   ],
   "source": [
    "df.shape"
   ]
  },
  {
   "cell_type": "code",
   "execution_count": 9,
   "metadata": {},
   "outputs": [
    {
     "name": "stdout",
     "output_type": "stream",
     "text": [
      "<class 'pandas.core.frame.DataFrame'>\n",
      "Index: 17992 entries, 19550 to 15795\n",
      "Data columns (total 90 columns):\n",
      " #   Column                             Non-Null Count  Dtype  \n",
      "---  ------                             --------------  -----  \n",
      " 0   flg_substandard                    17992 non-null  float64\n",
      " 1   flg_is_borderline_standard         17992 non-null  float64\n",
      " 2   flg_is_revised_term                17992 non-null  float64\n",
      " 3   flg_is_rental_flat                 17992 non-null  float64\n",
      " 4   flg_has_health_claim               17992 non-null  float64\n",
      " 5   flg_has_life_claim                 17992 non-null  float64\n",
      " 6   flg_gi_claim                       17992 non-null  float64\n",
      " 7   flg_is_proposal                    17992 non-null  float64\n",
      " 8   flg_with_preauthorisation          17992 non-null  float64\n",
      " 9   flg_is_returned_mail               17992 non-null  float64\n",
      " 10  is_consent_to_mail                 17992 non-null  float64\n",
      " 11  is_consent_to_email                17992 non-null  float64\n",
      " 12  is_consent_to_call                 17992 non-null  float64\n",
      " 13  is_consent_to_sms                  17992 non-null  float64\n",
      " 14  is_valid_dm                        17992 non-null  float64\n",
      " 15  is_valid_email                     17992 non-null  float64\n",
      " 16  is_housewife_retiree               17992 non-null  float64\n",
      " 17  is_sg_pr                           17992 non-null  float64\n",
      " 18  is_class_1_2                       17992 non-null  float64\n",
      " 19  is_dependent_in_at_least_1_policy  17992 non-null  float64\n",
      " 20  f_ever_declined_la                 17992 non-null  float64\n",
      " 21  hh_size                            17992 non-null  float64\n",
      " 22  n_months_last_bought_products      17992 non-null  int64  \n",
      " 23  flg_latest_being_lapse             17992 non-null  int64  \n",
      " 24  flg_latest_being_cancel            17992 non-null  int64  \n",
      " 25  recency_lapse                      17992 non-null  float64\n",
      " 26  recency_cancel                     17992 non-null  float64\n",
      " 27  tot_inforce_pols                   17992 non-null  int64  \n",
      " 28  tot_cancel_pols                    17992 non-null  float64\n",
      " 29  f_hold_839f8a                      17992 non-null  int64  \n",
      " 30  f_hold_e22a6a                      17992 non-null  int64  \n",
      " 31  f_hold_d0adeb                      17992 non-null  int64  \n",
      " 32  f_hold_c4bda5                      17992 non-null  int64  \n",
      " 33  f_hold_ltc                         17992 non-null  int64  \n",
      " 34  f_hold_507c37                      17992 non-null  int64  \n",
      " 35  f_hold_gi                          17992 non-null  int64  \n",
      " 36  f_ever_bought_839f8a               17992 non-null  int64  \n",
      " 37  f_ever_bought_e22a6a               17992 non-null  int64  \n",
      " 38  f_ever_bought_d0adeb               17992 non-null  int64  \n",
      " 39  f_ever_bought_c4bda5               17992 non-null  int64  \n",
      " 40  f_ever_bought_ltc                  17992 non-null  int64  \n",
      " 41  f_ever_bought_507c37               17992 non-null  int64  \n",
      " 42  f_ever_bought_gi                   17992 non-null  int64  \n",
      " 43  f_ever_bought_ltc_1280bf           17992 non-null  int64  \n",
      " 44  f_ever_bought_grp_6fc3e6           17992 non-null  int64  \n",
      " 45  f_ever_bought_grp_de05ae           17992 non-null  int64  \n",
      " 46  f_ever_bought_inv_dcd836           17992 non-null  int64  \n",
      " 47  f_ever_bought_grp_945b5a           17992 non-null  int64  \n",
      " 48  f_ever_bought_grp_6a5788           17992 non-null  int64  \n",
      " 49  f_ever_bought_ltc_43b9d5           17992 non-null  int64  \n",
      " 50  f_ever_bought_grp_9cdedf           17992 non-null  int64  \n",
      " 51  f_ever_bought_lh_d0adeb            17992 non-null  int64  \n",
      " 52  f_ever_bought_grp_1581d7           17992 non-null  int64  \n",
      " 53  f_ever_bought_grp_22decf           17992 non-null  int64  \n",
      " 54  f_ever_bought_lh_507c37            17992 non-null  int64  \n",
      " 55  f_ever_bought_lh_839f8a            17992 non-null  int64  \n",
      " 56  f_ever_bought_inv_e9f316           17992 non-null  int64  \n",
      " 57  f_ever_bought_grp_caa6ff           17992 non-null  int64  \n",
      " 58  f_ever_bought_grp_fd3bfb           17992 non-null  int64  \n",
      " 59  f_ever_bought_lh_e22a6a            17992 non-null  int64  \n",
      " 60  f_ever_bought_grp_70e1dd           17992 non-null  int64  \n",
      " 61  f_ever_bought_grp_e04c3a           17992 non-null  int64  \n",
      " 62  f_ever_bought_grp_fe5fb8           17992 non-null  int64  \n",
      " 63  f_ever_bought_grp_94baec           17992 non-null  int64  \n",
      " 64  f_ever_bought_grp_e91421           17992 non-null  int64  \n",
      " 65  f_ever_bought_lh_f852af            17992 non-null  int64  \n",
      " 66  f_ever_bought_lh_947b15            17992 non-null  int64  \n",
      " 67  f_ever_bought_32c74c               17992 non-null  int64  \n",
      " 68  f_elx                              17992 non-null  int64  \n",
      " 69  f_mindef_mha                       17992 non-null  int64  \n",
      " 70  f_retail                           17992 non-null  int64  \n",
      " 71  flg_affconnect_show_interest_ever  17992 non-null  float64\n",
      " 72  flg_affconnect_ready_to_buy_ever   17992 non-null  float64\n",
      " 73  flg_affconnect_lapse_ever          17992 non-null  float64\n",
      " 74  affcon_visit_days                  17992 non-null  float64\n",
      " 75  n_months_since_visit_affcon        17992 non-null  float64\n",
      " 76  clmcon_visit_days                  17992 non-null  float64\n",
      " 77  recency_clmcon                     17992 non-null  float64\n",
      " 78  recency_clmcon_regis               17992 non-null  float64\n",
      " 79  recency_hlthclaim                  17992 non-null  float64\n",
      " 80  hlthclaim_cnt_success              17992 non-null  float64\n",
      " 81  recency_hlthclaim_success          17992 non-null  float64\n",
      " 82  hlthclaim_cnt_unsuccess            17992 non-null  float64\n",
      " 83  recency_hlthclaim_unsuccess        17992 non-null  float64\n",
      " 84  flg_hlthclaim_839f8a_ever          17992 non-null  float64\n",
      " 85  recency_hlthclaim_839f8a           17992 non-null  float64\n",
      " 86  flg_hlthclaim_14cb37_ever          17992 non-null  float64\n",
      " 87  recency_hlthclaim_14cb37           17992 non-null  float64\n",
      " 88  recency_giclaim                    17992 non-null  float64\n",
      " 89  f_purchase_lh                      17992 non-null  float64\n",
      "dtypes: float64(44), int64(46)\n",
      "memory usage: 12.5 MB\n"
     ]
    }
   ],
   "source": [
    "df.info()"
   ]
  },
  {
   "cell_type": "code",
   "execution_count": 14,
   "metadata": {},
   "outputs": [
    {
     "data": {
      "text/plain": [
       "<Axes: ylabel='Frequency'>"
      ]
     },
     "execution_count": 14,
     "metadata": {},
     "output_type": "execute_result"
    },
    {
     "data": {
      "image/png": "[encoded data removed]",
      "text/plain": [
       "<Figure size 640x480 with 1 Axes>"
      ]
     },
     "metadata": {},
     "output_type": "display_data"
    }
   ],
   "source": [
    "#Extreme inbalanced dataset \n",
    "df['f_purchase_lh'].plot.hist()"
   ]
  },
  {
   "cell_type": "code",
   "execution_count": 10,
   "metadata": {},
   "outputs": [
    {
     "data": {
      "text/plain": [
       "flg_substandard               0\n",
       "flg_is_borderline_standard    0\n",
       "flg_is_revised_term           0\n",
       "flg_is_rental_flat            0\n",
       "flg_has_health_claim          0\n",
       "                             ..\n",
       "recency_hlthclaim_839f8a      0\n",
       "flg_hlthclaim_14cb37_ever     0\n",
       "recency_hlthclaim_14cb37      0\n",
       "recency_giclaim               0\n",
       "f_purchase_lh                 0\n",
       "Length: 90, dtype: int64"
      ]
     },
     "execution_count": 10,
     "metadata": {},
     "output_type": "execute_result"
    }
   ],
   "source": [
    "df.isna().sum()"
   ]
  },
  {
   "cell_type": "markdown",
   "metadata": {},
   "source": [
    "### Scatterplots"
   ]
  },
  {
   "cell_type": "code",
   "execution_count": 17,
   "metadata": {},
   "outputs": [],
   "source": [
    "# Split the DataFrame into two separate DataFrames based on the label values\n",
    "#df_label_0 = df[df['f_purchase_lh'] == 0]\n",
    "#df_label_1 = df[df['f_purchase_lh'] == 1]\n",
    "\n",
    "# Create a scatter plot for each feature\n",
    "#for feature in df.columns[:-1]: \n",
    "    #plt.figure(figsize=(8, 6))\n",
    "    #plt.scatter(df_label_0[feature], df_label_0['f_purchase_lh'], label='Label 0', color='blue', marker='o')\n",
    "    #plt.scatter(df_label_1[feature], df_label_1['f_purchase_lh'], label='Label 1', color='red', marker='x')\n",
    "    #plt.xlabel(feature)\n",
    "    #plt.ylabel('Label')\n",
    "    #plt.title(f'Scatter Plot of {feature} vs Label')\n",
    "    #plt.legend()\n",
    "    #plt.show()"
   ]
  },
  {
   "cell_type": "markdown",
   "metadata": {},
   "source": [
    "# Failure of scatterplots\n",
    "\n",
    "We observe that scatter plots do not work well for our dataset. This can be explained by the following reasons\n",
    "\n",
    "1. Most of our variables are qualitative variables.  \n",
    "\n",
    "2. There are only 2 binary classes, which will only be represented by two points. \n"
   ]
  },
  {
   "cell_type": "markdown",
   "metadata": {},
   "source": [
    "## SMOTE to balance the dataset\n",
    "### If you encounter ImportError, please run the following commands in the next 2 cells\n",
    "#### This is a bug with the newest version of the packages and we solve it by downgrading them to earlier version"
   ]
  },
  {
   "cell_type": "code",
   "execution_count": 1,
   "metadata": {},
   "outputs": [
    {
     "name": "stdout",
     "output_type": "stream",
     "text": [
      "Found existing installation: scikit-learn 1.2.2\n",
      "Uninstalling scikit-learn-1.2.2:\n",
      "  Successfully uninstalled scikit-learn-1.2.2\n",
      "Found existing installation: imblearn 0.0\n",
      "Uninstalling imblearn-0.0:\n",
      "  Successfully uninstalled imblearn-0.0\n"
     ]
    }
   ],
   "source": [
    "!pip uninstall scikit-learn --yes\n",
    "!pip uninstall imblearn --yes"
   ]
  },
  {
   "cell_type": "code",
   "execution_count": 2,
   "metadata": {},
   "outputs": [
    {
     "name": "stdout",
     "output_type": "stream",
     "text": [
      "Collecting scikit-learn==1.2.2\n",
      "  Using cached scikit_learn-1.2.2-cp311-cp311-win_amd64.whl (8.3 MB)\n",
      "Requirement already satisfied: numpy>=1.17.3 in c:\\users\\hanrui\\anaconda3\\lib\\site-packages (from scikit-learn==1.2.2) (1.24.3)\n",
      "Requirement already satisfied: scipy>=1.3.2 in c:\\users\\hanrui\\anaconda3\\lib\\site-packages (from scikit-learn==1.2.2) (1.11.1)\n",
      "Requirement already satisfied: joblib>=1.1.1 in c:\\users\\hanrui\\anaconda3\\lib\\site-packages (from scikit-learn==1.2.2) (1.2.0)\n",
      "Requirement already satisfied: threadpoolctl>=2.0.0 in c:\\users\\hanrui\\anaconda3\\lib\\site-packages (from scikit-learn==1.2.2) (2.2.0)\n",
      "Installing collected packages: scikit-learn\n",
      "Successfully installed scikit-learn-1.2.2\n",
      "Collecting imblearn\n",
      "  Using cached imblearn-0.0-py2.py3-none-any.whl (1.9 kB)\n",
      "Requirement already satisfied: imbalanced-learn in c:\\users\\hanrui\\anaconda3\\lib\\site-packages (from imblearn) (0.10.1)\n",
      "Requirement already satisfied: numpy>=1.17.3 in c:\\users\\hanrui\\anaconda3\\lib\\site-packages (from imbalanced-learn->imblearn) (1.24.3)\n",
      "Requirement already satisfied: scipy>=1.3.2 in c:\\users\\hanrui\\anaconda3\\lib\\site-packages (from imbalanced-learn->imblearn) (1.11.1)\n",
      "Requirement already satisfied: scikit-learn>=1.0.2 in c:\\users\\hanrui\\anaconda3\\lib\\site-packages (from imbalanced-learn->imblearn) (1.2.2)\n",
      "Requirement already satisfied: joblib>=1.1.1 in c:\\users\\hanrui\\anaconda3\\lib\\site-packages (from imbalanced-learn->imblearn) (1.2.0)\n",
      "Requirement already satisfied: threadpoolctl>=2.0.0 in c:\\users\\hanrui\\anaconda3\\lib\\site-packages (from imbalanced-learn->imblearn) (2.2.0)\n",
      "Installing collected packages: imblearn\n",
      "Successfully installed imblearn-0.0\n"
     ]
    }
   ],
   "source": [
    "!pip install scikit-learn==1.2.2\n",
    "!pip install imblearn"
   ]
  },
  {
   "cell_type": "code",
   "execution_count": 13,
   "metadata": {},
   "outputs": [],
   "source": [
    "from collections import Counter\n",
    "from imblearn.over_sampling import SMOTE\n",
    "from sklearn.model_selection import train_test_split\n",
    "\n",
    "X_train_base, X_test_base, y_train_base, y_test_base = train_test_split(X, y, test_size = 0.20, random_state = 42)\n",
    "\n",
    "from imblearn.over_sampling import RandomOverSampler\n",
    "\n",
    "def balancing(X,y,type):\n",
    "       '''\n",
    "       This function helps us to choose the type of resampling that we \n",
    "       want to do, functional abstraction, 1010 things :-)\n",
    "       '''\n",
    "       ros = RandomOverSampler(random_state=42)\n",
    "       smote = SMOTE(random_state=42)\n",
    "       if type == 'oversample':\n",
    "              return ros.fit_resample(X, y)\n",
    "       else:\n",
    "              return smote.fit_resample(X,y)\n",
    "\n",
    "\n",
    "# Split the data into training and testing sets\n",
    "X_train, X_test, y_train, y_test = train_test_split(X, y, test_size = 0.20, random_state = 42)\n",
    "\n",
    "# Balance the training data \n",
    "X_train , y_train = balancing(X_train , y_train, 'smote')"
   ]
  },
  {
   "cell_type": "markdown",
   "metadata": {},
   "source": [
    "## The cell below is **NOT** to be removed\n",
    "##### The function is to be amended so that it accepts the given input (dataframe) and returns the required output (list). \n",
    "##### It is recommended to test the function out prior to submission\n",
    "-------------------------------------------------------------------------------------------------------------------------------\n",
    "##### The hidden_data parsed into the function below will have the same layout columns wise as the dataset *SENT* to you\n",
    "##### Thus, ensure that steps taken to modify the initial dataset to fit into the model are also carried out in the function below"
   ]
  },
  {
   "cell_type": "code",
   "execution_count": 3,
   "metadata": {},
   "outputs": [],
   "source": [
    "def testing_hidden_data(hidden_data: pd.DataFrame) -> list:\n",
    "    '''DO NOT REMOVE THIS FUNCTION.\n",
    "\n",
    "The function accepts a dataframe as input and return an iterable (list)\n",
    "of binary classes as output.\n",
    "\n",
    "The function should be coded to test on hidden data\n",
    "and should include any preprocessing functions needed for your model to perform. \n",
    "    \n",
    "All relevant code MUST be included in this function.'''\n",
    "    result = [] \n",
    "    return result"
   ]
  },
  {
   "cell_type": "markdown",
   "metadata": {},
   "source": [
    "##### Cell to check testing_hidden_data function"
   ]
  },
  {
   "cell_type": "code",
   "execution_count": null,
   "metadata": {},
   "outputs": [],
   "source": [
    "# This cell should output a list of predictions.\n",
    "test_df = pd.read_parquet(filepath)\n",
    "test_df = test_df.drop(columns=[\"f_purchase_lh\"])\n",
    "print(testing_hidden_data(test_df))"
   ]
  },
  {
   "cell_type": "markdown",
   "metadata": {},
   "source": [
    "### Please have the filename renamed and ensure that it can be run with the requirements above being met. All the best!"
   ]
  }
 ],
 "metadata": {
  "kernelspec": {
   "display_name": "Python 3 (ipykernel)",
   "language": "python",
   "name": "python3"
  },
  "language_info": {
   "codemirror_mode": {
    "name": "ipython",
    "version": 3
   },
   "file_extension": ".py",
   "mimetype": "text/x-python",
   "name": "python",
   "nbconvert_exporter": "python",
   "pygments_lexer": "ipython3",
   "version": "3.11.5"
  }
 },
 "nbformat": 4,
 "nbformat_minor": 2
}
